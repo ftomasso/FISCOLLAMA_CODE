{
 "cells": [
  {
   "cell_type": "code",
   "execution_count": 1,
   "metadata": {},
   "outputs": [],
   "source": [
    "import os\n",
    "# TO-DO: import python selenium module\n",
    "from selenium import webdriver\n",
    "from selenium.webdriver.chrome.options import Options\n",
    "from selenium.webdriver.common.by import By\n",
    "from tqdm import tqdm\n",
    "\n",
    "\n",
    "# Configura le opzioni di Chrome\n",
    "download_dir = os.path.expanduser(\"/Users/andreaalessandrelli/Downloads/pdf1\")  # Cambia la cartella di download\n",
    "os.makedirs(download_dir, exist_ok=True)  # Crea la cartella se non esiste\n",
    "\n",
    "chrome_options = Options()\n",
    "chrome_options.add_experimental_option(\"excludeSwitches\", [\"enable-automation\"])\n",
    "chrome_options.add_experimental_option(\"useAutomationExtension\", False)\n",
    "chrome_options.add_argument(\"--headless\")\n",
    "chrome_options.add_argument(\"--no-sandbox\")\n",
    "chrome_options.add_argument(\"--disable-dev-shm-usage\")\n",
    "chrome_options.add_argument(\"--disable-gpu\")\n",
    "chrome_options.add_experimental_option(\"prefs\", {\n",
    "    \"download.default_directory\": download_dir,\n",
    "    \"download.prompt_for_download\": False,\n",
    "    \"download.directory_upgrade\": True,\n",
    "    \"safebrowsing.enabled\": True\n",
    "})\n",
    "#chrome_options.add_argument('--no-sandbox')\n",
    "#chrome_options.add_argument('--disable-dev-shm-usage')\n",
    "\n",
    "\n"
   ]
  },
  {
   "cell_type": "code",
   "execution_count": null,
   "metadata": {},
   "outputs": [
    {
     "name": "stderr",
     "output_type": "stream",
     "text": [
      "100%|██████████| 1308/1308 [18:12<00:00,  1.20it/s]\n"
     ]
    }
   ],
   "source": [
    "# Scarica i file PDF\n",
    "results = []\n",
    "idx=0\n",
    "for x in tqdm(range(80000+680+660+7352,90000)):\n",
    "    if idx==0:\n",
    "        driver = webdriver.Chrome(options=chrome_options)\n",
    "    target_url = f\"******\"\n",
    "    try:\n",
    "        driver.get(target_url)\n",
    "        #print(f\"Scaricato: {target_url}\")\n",
    "    except Exception as e:\n",
    "        \"Errore con {target_url}: {e}\"\n",
    "    if idx %20==0:\n",
    "        driver.quit()\n",
    "        driver = webdriver.Chrome(options=chrome_options)\n",
    "    idx+=1\n",
    "\n",
    "\n"
   ]
  },
  {
   "cell_type": "code",
   "execution_count": null,
   "metadata": {},
   "outputs": [],
   "source": []
  }
 ],
 "metadata": {
  "kernelspec": {
   "display_name": "env_master",
   "language": "python",
   "name": "python3"
  },
  "language_info": {
   "codemirror_mode": {
    "name": "ipython",
    "version": 3
   },
   "file_extension": ".py",
   "mimetype": "text/x-python",
   "name": "python",
   "nbconvert_exporter": "python",
   "pygments_lexer": "ipython3",
   "version": "3.11.6"
  }
 },
 "nbformat": 4,
 "nbformat_minor": 2
}
